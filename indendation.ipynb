{
  "nbformat": 4,
  "nbformat_minor": 0,
  "metadata": {
    "colab": {
      "provenance": [],
      "toc_visible": true
    },
    "kernelspec": {
      "name": "python3",
      "display_name": "Python 3"
    },
    "language_info": {
      "name": "python"
    }
  },
  "cells": [
    {
      "cell_type": "code",
      "execution_count": 2,
      "metadata": {
        "id": "l237DLiipUSF"
      },
      "outputs": [],
      "source": [
        "def greet(name):\n",
        "    if name:\n",
        "        print(f\"Hello, {name}!\")\n",
        "    else:\n",
        "        print(\"Hello, World!\")\n",
        "\n",
        "greet(\"Alice\")\n",
        "greet(\"\")\n"
      ]
    }
  ]
}